{
 "cells": [
  {
   "cell_type": "code",
   "execution_count": null,
   "metadata": {},
   "outputs": [],
   "source": [
    "import matplotlib.pyplot as plt\n",
    "import pandas as pd\n",
    "import seaborn as sns\n",
    "import numpy as np"
   ]
  },
  {
   "cell_type": "code",
   "execution_count": null,
   "metadata": {},
   "outputs": [],
   "source": [
    "df = pd.read_csv(\"../hashTests.csv\", index_col=False)\n",
    "df"
   ]
  },
  {
   "cell_type": "code",
   "execution_count": null,
   "metadata": {},
   "outputs": [],
   "source": [
    "x = list(range(0, 1000))\n",
    "y = pd.Series(df[\"MUL\"].to_numpy(), name=\"y\")\n",
    "\n",
    "plt.figure(figsize=(16, 5), dpi=600)\n",
    "plt.ylabel(\"Количество строк\")\n",
    "plt.xlabel(\"Значение хеш-функции mod 1000\")\n",
    "plt.title(\"MUL-хеш\")\n",
    "\n",
    "plot = sns.histplot(x=x, weights=y, discrete=True,\n",
    "                  kde=False, kde_kws={'bw_adjust': 0.2}, line_kws={'linewidth': 3})\n",
    "plot.set(ylim=(0, 10))"
   ]
  },
  {
   "cell_type": "code",
   "execution_count": null,
   "metadata": {},
   "outputs": [],
   "source": [
    "x = list(range(0, 1000))\n",
    "y = pd.Series(df[\"BIT\"].to_numpy(), name=\"y\")\n",
    "\n",
    "plt.figure(figsize=(16, 5), dpi=600)\n",
    "plt.ylabel(\"Количество строк\")\n",
    "plt.xlabel(\"Значение хеш-функции mod 1000\")\n",
    "plt.title(\"BIT-хеш\")\n",
    "\n",
    "pl = sns.histplot(x=x, weights=y, discrete=True,\n",
    "                  kde=False, kde_kws={'bw_adjust': 0.2}, line_kws={'linewidth': 3})\n",
    "\n",
    "# pl.set_xticks(range(200))"
   ]
  },
  {
   "cell_type": "code",
   "execution_count": null,
   "metadata": {},
   "outputs": [],
   "source": [
    "x = list(range(0, 1000))\n",
    "y  = pd.Series(df[\"MOD\"].to_numpy(), name=\"y\")\n",
    "# y1 = pd.Series(df[\"BIT\"].to_numpy(), name=\"y1\")\n",
    "# y2 = pd.Series(df[\"MUL\"].to_numpy(), name=\"y2\")\n",
    "\n",
    "plt.figure(figsize=(16, 5), dpi=600)\n",
    "plt.ylabel(\"Количество строк\")\n",
    "plt.xlabel(\"Значение хеш-функции mod 1000\")\n",
    "plt.title(\"MOD хеш\")\n",
    "\n",
    "sns.histplot(x=x, weights=y, discrete=True,\n",
    "                  kde=False, kde_kws={'bw_adjust': 0.2}, line_kws={'linewidth': 3}, label=\"MOD\")\n",
    "# sns.histplot(x=x, weights=y1, discrete=True,\n",
    "#                   kde=False, kde_kws={'bw_adjust': 0.2}, line_kws={'linewidth': 3}, label=\"BIT\")\n",
    "# plot = sns.histplot(x=x, weights=y2, discrete=True,\n",
    "#                   kde=False, kde_kws={'bw_adjust': 0.2}, line_kws={'linewidth': 3}, label=\"MUL\")\n",
    "\n",
    "plot.legend()"
   ]
  },
  {
   "cell_type": "code",
   "execution_count": null,
   "metadata": {},
   "outputs": [],
   "source": [
    "x = list(range(0, 1000))\n",
    "y  = pd.Series(df[\"BIT\"].to_numpy(), name=\"y\")\n",
    "# y1 = pd.Series(df[\"BIT\"].to_numpy(), name=\"y1\")\n",
    "\n",
    "plt.figure(figsize=(16, 3), dpi=600)\n",
    "plt.ylabel(\"Количество строк\")\n",
    "plt.xlabel(\"Значение хеш-функции mod 1000\")\n",
    "plt.title(\"BIT хеш\")\n",
    "\n",
    "# plt.legend([\"INT\", \"BIT\"])\n",
    "\n",
    "plot = sns.histplot(x=x, weights=y, discrete=True,\n",
    "                  kde=False, kde_kws={'bw_adjust': 0.2}, line_kws={'linewidth': 3}, label=\"INT\")\n",
    "# plot = sns.histplot(x=x, weights=y1, discrete=True,\n",
    "                #   kde=False, kde_kws={'bw_adjust': 0.2}, line_kws={'linewidth': 3}, label=\"ROR\")\n",
    "\n",
    "plot.set(ylim=(0, 100))\n",
    "plot.legend()"
   ]
  },
  {
   "cell_type": "code",
   "execution_count": null,
   "metadata": {},
   "outputs": [],
   "source": [
    "x = list(range(0, 1000))\n",
    "y  = pd.Series(df[\"INT\"].to_numpy(), name=\"y\")\n",
    "# y1 = pd.Series(df[\"BIT\"].to_numpy(), name=\"y1\")\n",
    "\n",
    "plt.figure(figsize=(16, 3), dpi=600)\n",
    "plt.ylabel(\"Количество строк\")\n",
    "plt.xlabel(\"Значение хеш-функции mod 1000\")\n",
    "plt.title(\"INT хеш\")\n",
    "\n",
    "# plt.legend([\"INT\", \"BIT\"])\n",
    "\n",
    "plot = sns.histplot(x=x, weights=y, discrete=True,\n",
    "                  kde=False, kde_kws={'bw_adjust': 0.2}, line_kws={'linewidth': 3}, label=\"INT\")\n",
    "# plot = sns.histplot(x=x, weights=y1, discrete=True,\n",
    "                #   kde=False, kde_kws={'bw_adjust': 0.2}, line_kws={'linewidth': 3}, label=\"ROR\")\n",
    "\n",
    "plot.set(ylim=(0, 100))\n",
    "plot.legend()"
   ]
  },
  {
   "cell_type": "code",
   "execution_count": null,
   "metadata": {},
   "outputs": [],
   "source": [
    "x = list(range(0, 1000))\n",
    "y2 = pd.Series(df[\"LEN\"].to_numpy(), name=\"y2\")\n",
    "\n",
    "plt.figure(figsize=(16, 3), dpi=600)\n",
    "plt.ylabel(\"Количество строк\")\n",
    "plt.xlabel(\"Значение хеш-функции mod 1000\")\n",
    "plt.title(\"LEN хеш\")\n",
    "\n",
    "plt.legend([\"GNU\", \"ROL\"])\n",
    "\n",
    "# sns.histplot(x=x, weights=y1, discrete=True,\n",
    "#                   kde=False, kde_kws={'bw_adjust': 0.2}, line_kws={'linewidth': 3}, label=\"LEN\")\n",
    "sns.histplot(x=x, weights=y2, discrete=True,\n",
    "                  kde=False, kde_kws={'bw_adjust': 0.2}, line_kws={'linewidth': 3}, label=\"SUM\")\n",
    "\n",
    "\n",
    "plot.set(ylim=(0, 1400))\n",
    "plot.legend()"
   ]
  },
  {
   "cell_type": "code",
   "execution_count": null,
   "metadata": {},
   "outputs": [],
   "source": [
    "x = list(range(0, 1000))\n",
    "y2 = pd.Series(df[\"SUM\"].to_numpy(), name=\"y2\")\n",
    "y3 = pd.Series(df[\"POL\"].to_numpy(), name=\"y3\")\n",
    "y4 = pd.Series(df[\"CRC\"].to_numpy(), name=\"y4\")\n",
    "\n",
    "plt.figure(figsize=(16, 3), dpi=600)\n",
    "plt.ylabel(\"Количество строк\")\n",
    "plt.xlabel(\"Значение хеш-функции mod 1000\")\n",
    "plt.title(\"Сравнение SUM, POL и CRC хешей\")\n",
    "\n",
    "plt.legend([\"GNU\", \"ROL\"])\n",
    "\n",
    "# sns.histplot(x=x, weights=y1, discrete=True,\n",
    "#                   kde=False, kde_kws={'bw_adjust': 0.2}, line_kws={'linewidth': 3}, label=\"LEN\")\n",
    "sns.histplot(x=x, weights=y2, discrete=True,\n",
    "                  kde=False, kde_kws={'bw_adjust': 0.2}, line_kws={'linewidth': 3}, label=\"SUM\")\n",
    "plot = sns.histplot(x=x, weights=y3, discrete=True,\n",
    "                  kde=False, kde_kws={'bw_adjust': 0.2}, line_kws={'linewidth': 3}, label=\"POL\")\n",
    "plot = sns.histplot(x=x, weights=y4, discrete=True,\n",
    "                  kde=False, kde_kws={'bw_adjust': 0.2}, line_kws={'linewidth': 3}, label=\"CRC\")\n",
    "\n",
    "\n",
    "plot.set(ylim=(0, 1400))\n",
    "plot.legend()"
   ]
  }
 ],
 "metadata": {
  "kernelspec": {
   "display_name": "Python 3",
   "language": "python",
   "name": "python3"
  },
  "language_info": {
   "codemirror_mode": {
    "name": "ipython",
    "version": 3
   },
   "file_extension": ".py",
   "mimetype": "text/x-python",
   "name": "python",
   "nbconvert_exporter": "python",
   "pygments_lexer": "ipython3",
   "version": "3.11.3"
  },
  "orig_nbformat": 4
 },
 "nbformat": 4,
 "nbformat_minor": 2
}
