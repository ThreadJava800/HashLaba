{
 "cells": [
  {
   "cell_type": "code",
   "execution_count": null,
   "metadata": {},
   "outputs": [],
   "source": [
    "import matplotlib.pyplot as plt\n",
    "import pandas as pd\n",
    "import seaborn as sns\n",
    "import numpy as np"
   ]
  },
  {
   "cell_type": "code",
   "execution_count": null,
   "metadata": {},
   "outputs": [],
   "source": [
    "df = pd.read_csv(\"../hashTests.csv\", index_col=False)\n",
    "df"
   ]
  },
  {
   "cell_type": "code",
   "execution_count": null,
   "metadata": {},
   "outputs": [],
   "source": [
    "x = list(range(0, 1000))\n",
    "y = pd.Series(df[\"MUL\"].to_numpy(), name=\"y\")\n",
    "\n",
    "plt.figure(figsize=(16, 5), dpi=600)\n",
    "plt.ylabel(\"Количество строк\")\n",
    "plt.xlabel(\"Значение хеш-функции mod 1000\")\n",
    "plt.title(\"MUL-хеш\")\n",
    "\n",
    "plot = sns.histplot(x=x, weights=y, discrete=True,\n",
    "                  kde=False, kde_kws={'bw_adjust': 0.2}, line_kws={'linewidth': 3})\n",
    "plot.set(ylim=(0, 10))"
   ]
  },
  {
   "cell_type": "code",
   "execution_count": null,
   "metadata": {},
   "outputs": [],
   "source": [
    "x = list(range(0, 1000))\n",
    "y = pd.Series(df[\"BIT\"].to_numpy(), name=\"y\")\n",
    "\n",
    "plt.figure(figsize=(16, 5), dpi=600)\n",
    "plt.ylabel(\"Количество строк\")\n",
    "plt.xlabel(\"Значение хеш-функции mod 1000\")\n",
    "plt.title(\"BIT-хеш\")\n",
    "\n",
    "pl = sns.histplot(x=x, weights=y, discrete=True,\n",
    "                  kde=False, kde_kws={'bw_adjust': 0.2}, line_kws={'linewidth': 3})\n",
    "\n",
    "# pl.set_xticks(range(200))"
   ]
  },
  {
   "cell_type": "code",
   "execution_count": null,
   "metadata": {},
   "outputs": [],
   "source": [
    "x = list(range(0, 1000))\n",
    "y  = pd.Series(df[\"MOD\"].to_numpy(), name=\"y\")\n",
    "# y1 = pd.Series(df[\"BIT\"].to_numpy(), name=\"y1\")\n",
    "# y2 = pd.Series(df[\"MUL\"].to_numpy(), name=\"y2\")\n",
    "\n",
    "plt.figure(figsize=(16, 5), dpi=600)\n",
    "plt.ylabel(\"Количество строк\")\n",
    "plt.xlabel(\"Значение хеш-функции mod 1000\")\n",
    "plt.title(\"MOD хеш\")\n",
    "\n",
    "sns.histplot(x=x, weights=y, discrete=True,\n",
    "                  kde=False, kde_kws={'bw_adjust': 0.2}, line_kws={'linewidth': 3}, label=\"MOD\")\n",
    "# sns.histplot(x=x, weights=y1, discrete=True,\n",
    "#                   kde=False, kde_kws={'bw_adjust': 0.2}, line_kws={'linewidth': 3}, label=\"BIT\")\n",
    "# plot = sns.histplot(x=x, weights=y2, discrete=True,\n",
    "#                   kde=False, kde_kws={'bw_adjust': 0.2}, line_kws={'linewidth': 3}, label=\"MUL\")\n",
    "\n",
    "plot.legend()"
   ]
  },
  {
   "cell_type": "code",
   "execution_count": null,
   "metadata": {},
   "outputs": [],
   "source": [
    "x = list(range(0, 1000))\n",
    "y  = pd.Series(df[\"BIT\"].to_numpy(), name=\"y\")\n",
    "# y1 = pd.Series(df[\"BIT\"].to_numpy(), name=\"y1\")\n",
    "\n",
    "plt.figure(figsize=(16, 3), dpi=600)\n",
    "plt.ylabel(\"Количество строк\")\n",
    "plt.xlabel(\"Значение хеш-функции mod 1000\")\n",
    "plt.title(\"BIT хеш\")\n",
    "\n",
    "# plt.legend([\"INT\", \"BIT\"])\n",
    "\n",
    "plot = sns.histplot(x=x, weights=y, discrete=True,\n",
    "                  kde=False, kde_kws={'bw_adjust': 0.2}, line_kws={'linewidth': 3}, label=\"INT\")\n",
    "# plot = sns.histplot(x=x, weights=y1, discrete=True,\n",
    "                #   kde=False, kde_kws={'bw_adjust': 0.2}, line_kws={'linewidth': 3}, label=\"ROR\")\n",
    "\n",
    "plot.set(ylim=(0, 100))\n",
    "plot.legend()"
   ]
  },
  {
   "cell_type": "code",
   "execution_count": null,
   "metadata": {},
   "outputs": [],
   "source": [
    "x = list(range(0, 1000))\n",
    "y  = pd.Series(df[\"INT\"].to_numpy(), name=\"y\")\n",
    "# y1 = pd.Series(df[\"BIT\"].to_numpy(), name=\"y1\")\n",
    "\n",
    "plt.figure(figsize=(16, 3), dpi=600)\n",
    "plt.ylabel(\"Количество строк\")\n",
    "plt.xlabel(\"Значение хеш-функции mod 1000\")\n",
    "plt.title(\"INT хеш\")\n",
    "\n",
    "# plt.legend([\"INT\", \"BIT\"])\n",
    "\n",
    "plot = sns.histplot(x=x, weights=y, discrete=True,\n",
    "                  kde=False, kde_kws={'bw_adjust': 0.2}, line_kws={'linewidth': 3}, label=\"INT\")\n",
    "# plot = sns.histplot(x=x, weights=y1, discrete=True,\n",
    "                #   kde=False, kde_kws={'bw_adjust': 0.2}, line_kws={'linewidth': 3}, label=\"ROR\")\n",
    "\n",
    "plot.set(ylim=(0, 100))\n",
    "plot.legend()"
   ]
  },
  {
   "cell_type": "code",
   "execution_count": null,
   "metadata": {},
   "outputs": [],
   "source": [
    "x = list(range(0, 1000))\n",
    "y2 = pd.Series(df[\"LEN\"].to_numpy(), name=\"y2\")\n",
    "\n",
    "plt.figure(figsize=(16, 3), dpi=600)\n",
    "plt.ylabel(\"Количество строк\")\n",
    "plt.xlabel(\"Значение хеш-функции mod 1000\")\n",
    "plt.title(\"LEN хеш\")\n",
    "\n",
    "plt.legend([\"GNU\", \"ROL\"])\n",
    "\n",
    "# sns.histplot(x=x, weights=y1, discrete=True,\n",
    "#                   kde=False, kde_kws={'bw_adjust': 0.2}, line_kws={'linewidth': 3}, label=\"LEN\")\n",
    "sns.histplot(x=x, weights=y2, discrete=True,\n",
    "                  kde=False, kde_kws={'bw_adjust': 0.2}, line_kws={'linewidth': 3}, label=\"SUM\")\n",
    "\n",
    "\n",
    "plot.set(ylim=(0, 1400))\n",
    "plot.legend()"
   ]
  },
  {
   "cell_type": "code",
   "execution_count": null,
   "metadata": {},
   "outputs": [],
   "source": [
    "x = list(range(0, 1000))\n",
    "y2 = pd.Series(df[\"SUM\"].to_numpy(), name=\"y2\")\n",
    "y3 = pd.Series(df[\"POL\"].to_numpy(), name=\"y3\")\n",
    "y4 = pd.Series(df[\"CRC\"].to_numpy(), name=\"y4\")\n",
    "\n",
    "plt.figure(figsize=(16, 3), dpi=600)\n",
    "plt.ylabel(\"Количество строк\")\n",
    "plt.xlabel(\"Значение хеш-функции mod 1000\")\n",
    "plt.title(\"Сравнение SUM, POL и CRC хешей\")\n",
    "\n",
    "plt.legend([\"GNU\", \"ROL\"])\n",
    "\n",
    "# sns.histplot(x=x, weights=y1, discrete=True,\n",
    "#                   kde=False, kde_kws={'bw_adjust': 0.2}, line_kws={'linewidth': 3}, label=\"LEN\")\n",
    "sns.histplot(x=x, weights=y2, discrete=True,\n",
    "                  kde=False, kde_kws={'bw_adjust': 0.2}, line_kws={'linewidth': 3}, label=\"SUM\")\n",
    "plot = sns.histplot(x=x, weights=y3, discrete=True,\n",
    "                  kde=False, kde_kws={'bw_adjust': 0.2}, line_kws={'linewidth': 3}, label=\"POL\")\n",
    "plot = sns.histplot(x=x, weights=y4, discrete=True,\n",
    "                  kde=False, kde_kws={'bw_adjust': 0.2}, line_kws={'linewidth': 3}, label=\"CRC\")\n",
    "\n",
    "\n",
    "plot.set(ylim=(0, 1400))\n",
    "plot.legend()"
   ]
  },
  {
   "cell_type": "code",
   "execution_count": null,
   "metadata": {},
   "outputs": [],
   "source": [
    "x = list(range(10000, 260000 + 1, 10000))\n",
    "y1 = [0, 0.720, 3.6, 17.646, 49.636, 104.9, 188.3, 289.5, 406, 538.1, 684.6, 845.6, 1021.2, 1210.9, 1416, 1636.5, 1872.5, 2124.1, 2391.9, 2670.4, 2957.6, 3256, 3576.9, 3920.4, 4276.5, 4612.8]\n",
    "y2 = [0, 0.020, 0.074, 0.171, 0.333, 0.584, 0.969, 1.5, 2.3, 3.3, 4.65, 6.4, 8.5, 11, 14, 17.6, 21.8, 26.6, 32.1, 38.6, 46, 54.2, 64, 73.6, 85.1, 97.7]\n",
    "\n",
    "\n",
    "fig = plt.figure()\n",
    "ax  = plt.axes()\n",
    "plt.legend = [\"Количество операций\", \"Время (с)\"];\n",
    "\n",
    "ax.plot(x, y1);\n",
    "ax.plot(x, y2)\n",
    "ax.set_ylabel(\"Время (с)\")\n",
    "ax.set_xlabel(\"Количество операций\");\n",
    "ax.legend([\"Закрытое хеширование\", \"Открытое хеширование\"])"
   ]
  }
 ],
 "metadata": {
  "kernelspec": {
   "display_name": "Python 3",
   "language": "python",
   "name": "python3"
  },
  "language_info": {
   "codemirror_mode": {
    "name": "ipython",
    "version": 3
   },
   "file_extension": ".py",
   "mimetype": "text/x-python",
   "name": "python",
   "nbconvert_exporter": "python",
   "pygments_lexer": "ipython3",
   "version": "3.11.3"
  },
  "orig_nbformat": 4
 },
 "nbformat": 4,
 "nbformat_minor": 2
}
